{
  "nbformat": 4,
  "nbformat_minor": 0,
  "metadata": {
    "colab": {
      "name": "EJ1_TP2_MedElec_I.ipynb",
      "provenance": [],
      "collapsed_sections": [],
      "authorship_tag": "ABX9TyNpYn6/ZVVFrhL4+0LYskvi",
      "include_colab_link": true
    },
    "kernelspec": {
      "name": "python3",
      "display_name": "Python 3"
    },
    "language_info": {
      "name": "python"
    }
  },
  "cells": [
    {
      "cell_type": "markdown",
      "metadata": {
        "id": "view-in-github",
        "colab_type": "text"
      },
      "source": [
        "<a href=\"https://colab.research.google.com/github/trottag/Medidas_Electronicas_I_2022/blob/main/EJ1_TP2_MedElec_I.ipynb\" target=\"_parent\"><img src=\"https://colab.research.google.com/assets/colab-badge.svg\" alt=\"Open In Colab\"/></a>"
      ]
    },
    {
      "cell_type": "code",
      "execution_count": 2,
      "metadata": {
        "id": "1S6qhTfChwMT"
      },
      "outputs": [],
      "source": [
        "import numpy as np"
      ]
    },
    {
      "cell_type": "code",
      "source": [
        "#Datos de la tabla\n",
        "V = np.array([22.323,22.325,22.320,22.331,22.332,22.330,22.327,22.323,22.329,22.325,]) #array de mediciones de tensión \n",
        "I =np.array( [145.1,145.2,144.9,145.7,145.2,146.3,145.3,145.1,145.9,145.4,]) #array de mediciones de corriente"
      ],
      "metadata": {
        "id": "r7_BXzrih6Tg"
      },
      "execution_count": 3,
      "outputs": []
    },
    {
      "cell_type": "code",
      "source": [
        "#Cálculo de valores medio\n",
        "v_mean=np.mean(V)\n",
        "i_mean=np.mean(I)\n",
        "print(\"Valor medio de tensión: %.4f\" %v_mean, \"V\")\n",
        "print(\"Valor medio de corriente: %.4f\" %i_mean, \"mA\")\n",
        "\n",
        "#Valor indicado de resistencia\n",
        "Ri=v_mean/(i_mean*10**-3)\n",
        "print(\"Valor indicado de resistencia: %.4f\" %Ri, \"Ω\")\n"
      ],
      "metadata": {
        "id": "TfRORWACiJKR",
        "colab": {
          "base_uri": "https://localhost:8080/"
        },
        "outputId": "272c9111-aacb-403d-f130-3101c1a34c34"
      },
      "execution_count": 10,
      "outputs": [
        {
          "output_type": "stream",
          "name": "stdout",
          "text": [
            "Valor medio de tensión: 22.3265 V\n",
            "Valor medio de corriente: 145.4100 mA\n",
            "Valor indicado de resistencia: 153.5417 Ω\n"
          ]
        }
      ]
    },
    {
      "cell_type": "markdown",
      "source": [
        "Evaluación tipo A"
      ],
      "metadata": {
        "id": "odBsf2K4lCWV"
      }
    },
    {
      "cell_type": "code",
      "source": [
        "uiV = V.std(ddof=1) / np.sqrt(len(V))\n",
        "uiI = I.std(ddof=1) / np.sqrt(len(I)) \n",
        "print('incertidumbre TIPO A de tension   es %1.4f'%(uiV))\n",
        "print('incertidumbre TIPO A de corriente es %1.4f'%(uiI))"
      ],
      "metadata": {
        "colab": {
          "base_uri": "https://localhost:8080/"
        },
        "id": "q7ZRJX9xlEc9",
        "outputId": "65800bf2-d7f5-4e4c-a79a-db2e1f314456"
      },
      "execution_count": 11,
      "outputs": [
        {
          "output_type": "stream",
          "name": "stdout",
          "text": [
            "incertidumbre TIPO A de tension   es 0.0012\n",
            "incertidumbre TIPO A de corriente es 0.1362\n"
          ]
        }
      ]
    },
    {
      "cell_type": "markdown",
      "source": [
        "Evaluación Tipo B.\n",
        "\n",
        "El amperímetro es un instrumento analógico de clase 0,2 – Alcance 150 mA – αMAX 150 divisiones y su resistencia interna (RA) 100 mΩ (supongamos que se conoce con exactitud)."
      ],
      "metadata": {
        "id": "leC_NsvllNll"
      }
    },
    {
      "cell_type": "code",
      "source": [
        "#Datos Voltímetro Digital\n",
        "CONST_ERROR_PORCENTUAL_V = 0.05\n",
        "CONST_ERROR_CUENTA_V     = 2\n",
        "CONST_RV =                10*10**6\n",
        "V_cuentas = 22326\n",
        "#Datos Amperímetro Analogico\n",
        "CONST_ALCANCE_I     = 150*10**-3\n",
        "CONST_MAX_DIV_I     = 150\n",
        "CONST_ERROR_CLASE   = 0.02\n",
        "CONST_DIVISIONES_MARCADADS = i_mean"
      ],
      "metadata": {
        "id": "VCE8ZyZ9liA2"
      },
      "execution_count": 15,
      "outputs": []
    },
    {
      "cell_type": "code",
      "source": [
        "#AMPERIMETRO\n",
        " \n",
        "I_ERROR_PORCENTUAL = (CONST_ERROR_CLASE*(CONST_ALCANCE_I/CONST_DIVISIONES_MARCADADS) + 0.2/CONST_DIVISIONES_MARCADADS)*100\n",
        "ERROR_I = (I_ERROR_PORCENTUAL)*i_mean/100\n",
        "\n",
        "#VOLTIMETRO\n",
        "V_ERROR_PORCENTUAL_CUENTA = (CONST_ERROR_CUENTA_V / V_cuentas)* 100\n",
        "ERROR_V = (V_ERROR_PORCENTUAL_CUENTA+CONST_ERROR_PORCENTUAL_V)*v_mean/100\n",
        "\n",
        "ujV = ERROR_V/np.sqrt(3)\n",
        "ujI = ERROR_I/np.sqrt(3)"
      ],
      "metadata": {
        "id": "x7nRojm3mwvy"
      },
      "execution_count": 31,
      "outputs": []
    },
    {
      "cell_type": "code",
      "source": [
        "#Incertidumbre combinada\n",
        "ucV= np.sqrt(uiV**2 + ujV**2)\n",
        "ucI= np.sqrt(uiI**2 + ujI**2)\n",
        "\n",
        "#Incertidumbre expandida\n",
        "ucV_exp = 2*ucV\n",
        "ucI_exp = 2*ucI\n",
        "\n",
        "#Incertidumbre resistencia\n",
        "dr_di = -v_mean/i_mean**2\n",
        "dr_dv = 1/i_mean\n",
        "ucR = np.sqrt (dr_dv**2*ucV_exp+dr_di**2*ucI_exp)\n",
        "\n",
        "ucR\n"
      ],
      "metadata": {
        "colab": {
          "base_uri": "https://localhost:8080/"
        },
        "id": "6lGjADvCnVTQ",
        "outputId": "284e58a2-0ff5-4d2e-936a-3228f7f9cb80"
      },
      "execution_count": 26,
      "outputs": [
        {
          "output_type": "execute_result",
          "data": {
            "text/plain": [
              "0.0010626208098291228"
            ]
          },
          "metadata": {},
          "execution_count": 26
        }
      ]
    },
    {
      "cell_type": "code",
      "source": [
        "#Cálculo de error de método\n",
        "\n",
        "error_metodo = -Ri/CONST_RV\n",
        "error_metodo"
      ],
      "metadata": {
        "colab": {
          "base_uri": "https://localhost:8080/"
        },
        "id": "70BHNd2XoIXa",
        "outputId": "4e34a7e2-4333-442a-bf4f-e6d8b84c45a5"
      },
      "execution_count": 27,
      "outputs": [
        {
          "output_type": "execute_result",
          "data": {
            "text/plain": [
              "-1.5354170964857982e-05"
            ]
          },
          "metadata": {},
          "execution_count": 27
        }
      ]
    },
    {
      "cell_type": "code",
      "source": [
        "#Error de lectura\n",
        "E_lectura = ucR/10\n",
        "E_lectura"
      ],
      "metadata": {
        "colab": {
          "base_uri": "https://localhost:8080/"
        },
        "id": "w1cQMn2Do1p_",
        "outputId": "aa6fbcc5-cab2-4b1d-e23e-2b2e6073ce2f"
      },
      "execution_count": 28,
      "outputs": [
        {
          "output_type": "execute_result",
          "data": {
            "text/plain": [
              "0.00010626208098291228"
            ]
          },
          "metadata": {},
          "execution_count": 28
        }
      ]
    },
    {
      "cell_type": "code",
      "source": [
        "error_metodo = abs(error_metodo)\n",
        "print(\"El modulo del error de metodo será:{:.15f} \".format(error_metodo))"
      ],
      "metadata": {
        "colab": {
          "base_uri": "https://localhost:8080/"
        },
        "id": "VA7A2zFKo7rq",
        "outputId": "c72aaf54-393d-4f4a-f245-e3fbefae24cb"
      },
      "execution_count": 29,
      "outputs": [
        {
          "output_type": "stream",
          "name": "stdout",
          "text": [
            "El modulo del error de metodo será:0.000015354170965 \n"
          ]
        }
      ]
    },
    {
      "cell_type": "markdown",
      "source": [
        "El modulo del error de metodo es menor al error de lectura, por lo que se puede despreciar."
      ],
      "metadata": {
        "id": "Fwiv_sVbpAYS"
      }
    },
    {
      "cell_type": "code",
      "source": [
        "print('Resistencia: %3.4f +- %3.4f'%(Ri,ucR))\n"
      ],
      "metadata": {
        "colab": {
          "base_uri": "https://localhost:8080/"
        },
        "id": "kUdxe7i3pDpM",
        "outputId": "d20ebe34-3379-4f83-d318-188720415d86"
      },
      "execution_count": 30,
      "outputs": [
        {
          "output_type": "stream",
          "name": "stdout",
          "text": [
            "Resistencia: 153.5417 +- 0.0011\n"
          ]
        }
      ]
    }
  ]
}