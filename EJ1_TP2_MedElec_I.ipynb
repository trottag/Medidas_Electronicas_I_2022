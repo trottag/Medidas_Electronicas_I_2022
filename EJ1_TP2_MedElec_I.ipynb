{
  "nbformat": 4,
  "nbformat_minor": 0,
  "metadata": {
    "colab": {
      "name": "EJ1_TP2_MedElec_I.ipynb",
      "provenance": [],
      "collapsed_sections": [],
      "authorship_tag": "ABX9TyNseOwtbco49PH+QSxayGGq",
      "include_colab_link": true
    },
    "kernelspec": {
      "name": "python3",
      "display_name": "Python 3"
    },
    "language_info": {
      "name": "python"
    }
  },
  "cells": [
    {
      "cell_type": "markdown",
      "metadata": {
        "id": "view-in-github",
        "colab_type": "text"
      },
      "source": [
        "<a href=\"https://colab.research.google.com/github/trottag/Medidas_Electronicas_I_2022/blob/main/EJ1_TP2_MedElec_I.ipynb\" target=\"_parent\"><img src=\"https://colab.research.google.com/assets/colab-badge.svg\" alt=\"Open In Colab\"/></a>"
      ]
    },
    {
      "cell_type": "code",
      "execution_count": null,
      "metadata": {
        "id": "1S6qhTfChwMT"
      },
      "outputs": [],
      "source": [
        "import numpy as np"
      ]
    },
    {
      "cell_type": "code",
      "source": [
        "#Datos de la tabla\n",
        "V = np.array([22.323,22.325,22.320,22.331,22.332,22.330,22.327,22.323,22.329,22.325,]) #array de mediciones de tensión \n",
        "I =np.array( [145.1,145.2,144.9,145.7,145.2,146.3,145.3,145.1,145.9,145.4,]) #array de mediciones de corriente"
      ],
      "metadata": {
        "id": "r7_BXzrih6Tg"
      },
      "execution_count": null,
      "outputs": []
    },
    {
      "cell_type": "code",
      "source": [
        ""
      ],
      "metadata": {
        "id": "TfRORWACiJKR"
      },
      "execution_count": null,
      "outputs": []
    }
  ]
}